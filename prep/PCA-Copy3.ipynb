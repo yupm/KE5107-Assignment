{
 "cells": [
  {
   "cell_type": "code",
   "execution_count": 1,
   "metadata": {},
   "outputs": [],
   "source": [
    "import pandas as pd\n",
    "import numpy as np\n",
    "df = pd.read_excel(\"USFoodPrice.xlsx\")"
   ]
  },
  {
   "cell_type": "code",
   "execution_count": 2,
   "metadata": {},
   "outputs": [
    {
     "data": {
      "text/html": [
       "<div>\n",
       "<style scoped>\n",
       "    .dataframe tbody tr th:only-of-type {\n",
       "        vertical-align: middle;\n",
       "    }\n",
       "\n",
       "    .dataframe tbody tr th {\n",
       "        vertical-align: top;\n",
       "    }\n",
       "\n",
       "    .dataframe thead th {\n",
       "        text-align: right;\n",
       "    }\n",
       "</style>\n",
       "<table border=\"1\" class=\"dataframe\">\n",
       "  <thead>\n",
       "    <tr style=\"text-align: right;\">\n",
       "      <th></th>\n",
       "      <th>City</th>\n",
       "      <th>Bread</th>\n",
       "      <th>Burger</th>\n",
       "      <th>Milk</th>\n",
       "      <th>Oranges</th>\n",
       "      <th>Tomato</th>\n",
       "    </tr>\n",
       "  </thead>\n",
       "  <tbody>\n",
       "    <tr>\n",
       "      <th>0</th>\n",
       "      <td>Atlanta</td>\n",
       "      <td>24.5</td>\n",
       "      <td>94.5</td>\n",
       "      <td>73.9</td>\n",
       "      <td>80.1</td>\n",
       "      <td>41.6</td>\n",
       "    </tr>\n",
       "    <tr>\n",
       "      <th>1</th>\n",
       "      <td>Baltimore</td>\n",
       "      <td>26.5</td>\n",
       "      <td>91.0</td>\n",
       "      <td>67.5</td>\n",
       "      <td>74.6</td>\n",
       "      <td>53.3</td>\n",
       "    </tr>\n",
       "    <tr>\n",
       "      <th>2</th>\n",
       "      <td>Boston</td>\n",
       "      <td>29.7</td>\n",
       "      <td>100.8</td>\n",
       "      <td>61.4</td>\n",
       "      <td>104.0</td>\n",
       "      <td>59.6</td>\n",
       "    </tr>\n",
       "    <tr>\n",
       "      <th>3</th>\n",
       "      <td>Buffalo</td>\n",
       "      <td>22.8</td>\n",
       "      <td>86.6</td>\n",
       "      <td>65.3</td>\n",
       "      <td>118.4</td>\n",
       "      <td>51.2</td>\n",
       "    </tr>\n",
       "    <tr>\n",
       "      <th>4</th>\n",
       "      <td>Chicago</td>\n",
       "      <td>26.7</td>\n",
       "      <td>86.7</td>\n",
       "      <td>62.7</td>\n",
       "      <td>105.9</td>\n",
       "      <td>51.2</td>\n",
       "    </tr>\n",
       "    <tr>\n",
       "      <th>5</th>\n",
       "      <td>Cincinnati</td>\n",
       "      <td>25.3</td>\n",
       "      <td>102.5</td>\n",
       "      <td>63.3</td>\n",
       "      <td>99.3</td>\n",
       "      <td>45.6</td>\n",
       "    </tr>\n",
       "    <tr>\n",
       "      <th>6</th>\n",
       "      <td>Cleveland</td>\n",
       "      <td>22.8</td>\n",
       "      <td>88.8</td>\n",
       "      <td>52.4</td>\n",
       "      <td>110.9</td>\n",
       "      <td>46.8</td>\n",
       "    </tr>\n",
       "    <tr>\n",
       "      <th>7</th>\n",
       "      <td>Dallas</td>\n",
       "      <td>23.3</td>\n",
       "      <td>85.5</td>\n",
       "      <td>62.5</td>\n",
       "      <td>117.9</td>\n",
       "      <td>41.8</td>\n",
       "    </tr>\n",
       "    <tr>\n",
       "      <th>8</th>\n",
       "      <td>Detroit</td>\n",
       "      <td>24.1</td>\n",
       "      <td>93.7</td>\n",
       "      <td>51.5</td>\n",
       "      <td>109.7</td>\n",
       "      <td>52.4</td>\n",
       "    </tr>\n",
       "    <tr>\n",
       "      <th>9</th>\n",
       "      <td>Honolulu</td>\n",
       "      <td>29.3</td>\n",
       "      <td>105.9</td>\n",
       "      <td>80.2</td>\n",
       "      <td>133.2</td>\n",
       "      <td>61.7</td>\n",
       "    </tr>\n",
       "    <tr>\n",
       "      <th>10</th>\n",
       "      <td>Houston</td>\n",
       "      <td>22.3</td>\n",
       "      <td>83.6</td>\n",
       "      <td>67.8</td>\n",
       "      <td>108.6</td>\n",
       "      <td>42.4</td>\n",
       "    </tr>\n",
       "    <tr>\n",
       "      <th>11</th>\n",
       "      <td>Kansas City</td>\n",
       "      <td>26.1</td>\n",
       "      <td>88.9</td>\n",
       "      <td>65.4</td>\n",
       "      <td>100.9</td>\n",
       "      <td>43.2</td>\n",
       "    </tr>\n",
       "    <tr>\n",
       "      <th>12</th>\n",
       "      <td>Los Angeles</td>\n",
       "      <td>26.9</td>\n",
       "      <td>89.3</td>\n",
       "      <td>56.2</td>\n",
       "      <td>82.7</td>\n",
       "      <td>38.4</td>\n",
       "    </tr>\n",
       "    <tr>\n",
       "      <th>13</th>\n",
       "      <td>Milwakee</td>\n",
       "      <td>20.3</td>\n",
       "      <td>89.6</td>\n",
       "      <td>53.8</td>\n",
       "      <td>111.8</td>\n",
       "      <td>53.9</td>\n",
       "    </tr>\n",
       "    <tr>\n",
       "      <th>14</th>\n",
       "      <td>Minneapolis</td>\n",
       "      <td>24.6</td>\n",
       "      <td>92.2</td>\n",
       "      <td>51.9</td>\n",
       "      <td>106.0</td>\n",
       "      <td>50.7</td>\n",
       "    </tr>\n",
       "    <tr>\n",
       "      <th>15</th>\n",
       "      <td>New York</td>\n",
       "      <td>30.8</td>\n",
       "      <td>110.7</td>\n",
       "      <td>66.0</td>\n",
       "      <td>107.3</td>\n",
       "      <td>62.6</td>\n",
       "    </tr>\n",
       "    <tr>\n",
       "      <th>16</th>\n",
       "      <td>Philadelphia</td>\n",
       "      <td>24.5</td>\n",
       "      <td>92.3</td>\n",
       "      <td>66.7</td>\n",
       "      <td>98.0</td>\n",
       "      <td>61.7</td>\n",
       "    </tr>\n",
       "    <tr>\n",
       "      <th>17</th>\n",
       "      <td>Pittsburgh</td>\n",
       "      <td>26.2</td>\n",
       "      <td>95.4</td>\n",
       "      <td>60.2</td>\n",
       "      <td>117.1</td>\n",
       "      <td>49.3</td>\n",
       "    </tr>\n",
       "    <tr>\n",
       "      <th>18</th>\n",
       "      <td>St. Louis</td>\n",
       "      <td>26.5</td>\n",
       "      <td>92.4</td>\n",
       "      <td>60.8</td>\n",
       "      <td>115.1</td>\n",
       "      <td>46.2</td>\n",
       "    </tr>\n",
       "    <tr>\n",
       "      <th>19</th>\n",
       "      <td>San Diego</td>\n",
       "      <td>25.5</td>\n",
       "      <td>83.7</td>\n",
       "      <td>57.0</td>\n",
       "      <td>92.8</td>\n",
       "      <td>35.4</td>\n",
       "    </tr>\n",
       "    <tr>\n",
       "      <th>20</th>\n",
       "      <td>San Franscisco</td>\n",
       "      <td>26.3</td>\n",
       "      <td>87.1</td>\n",
       "      <td>58.3</td>\n",
       "      <td>101.8</td>\n",
       "      <td>41.5</td>\n",
       "    </tr>\n",
       "    <tr>\n",
       "      <th>21</th>\n",
       "      <td>Seattle</td>\n",
       "      <td>22.5</td>\n",
       "      <td>77.7</td>\n",
       "      <td>62.0</td>\n",
       "      <td>91.1</td>\n",
       "      <td>44.9</td>\n",
       "    </tr>\n",
       "    <tr>\n",
       "      <th>22</th>\n",
       "      <td>Washington, DC</td>\n",
       "      <td>24.2</td>\n",
       "      <td>93.8</td>\n",
       "      <td>66.0</td>\n",
       "      <td>81.6</td>\n",
       "      <td>46.2</td>\n",
       "    </tr>\n",
       "    <tr>\n",
       "      <th>23</th>\n",
       "      <td>NaN</td>\n",
       "      <td>NaN</td>\n",
       "      <td>NaN</td>\n",
       "      <td>NaN</td>\n",
       "      <td>NaN</td>\n",
       "      <td>NaN</td>\n",
       "    </tr>\n",
       "    <tr>\n",
       "      <th>24</th>\n",
       "      <td>NaN</td>\n",
       "      <td>NaN</td>\n",
       "      <td>NaN</td>\n",
       "      <td>NaN</td>\n",
       "      <td>NaN</td>\n",
       "      <td>NaN</td>\n",
       "    </tr>\n",
       "    <tr>\n",
       "      <th>25</th>\n",
       "      <td>Source : Estimated Retail Food Prices by Citie...</td>\n",
       "      <td>NaN</td>\n",
       "      <td>NaN</td>\n",
       "      <td>NaN</td>\n",
       "      <td>NaN</td>\n",
       "      <td>NaN</td>\n",
       "    </tr>\n",
       "    <tr>\n",
       "      <th>26</th>\n",
       "      <td>U.S. Department of Labor, Bureau of Labor Sta...</td>\n",
       "      <td>NaN</td>\n",
       "      <td>NaN</td>\n",
       "      <td>NaN</td>\n",
       "      <td>NaN</td>\n",
       "      <td>NaN</td>\n",
       "    </tr>\n",
       "  </tbody>\n",
       "</table>\n",
       "</div>"
      ],
      "text/plain": [
       "                                                City   Bread   Burger  Milk   \\\n",
       "0                                             Atlanta    24.5    94.5   73.9   \n",
       "1                                           Baltimore    26.5    91.0   67.5   \n",
       "2                                              Boston    29.7   100.8   61.4   \n",
       "3                                            Buffalo     22.8    86.6   65.3   \n",
       "4                                             Chicago    26.7    86.7   62.7   \n",
       "5                                          Cincinnati    25.3   102.5   63.3   \n",
       "6                                           Cleveland    22.8    88.8   52.4   \n",
       "7                                             Dallas     23.3    85.5   62.5   \n",
       "8                                             Detroit    24.1    93.7   51.5   \n",
       "9                                            Honolulu    29.3   105.9   80.2   \n",
       "10                                            Houston    22.3    83.6   67.8   \n",
       "11                                        Kansas City    26.1    88.9   65.4   \n",
       "12                                        Los Angeles    26.9    89.3   56.2   \n",
       "13                                           Milwakee    20.3    89.6   53.8   \n",
       "14                                        Minneapolis    24.6    92.2   51.9   \n",
       "15                                           New York    30.8   110.7   66.0   \n",
       "16                                       Philadelphia    24.5    92.3   66.7   \n",
       "17                                         Pittsburgh    26.2    95.4   60.2   \n",
       "18                                          St. Louis    26.5    92.4   60.8   \n",
       "19                                          San Diego    25.5    83.7   57.0   \n",
       "20                                     San Franscisco    26.3    87.1   58.3   \n",
       "21                                            Seattle    22.5    77.7   62.0   \n",
       "22                                     Washington, DC    24.2    93.8   66.0   \n",
       "23                                                NaN     NaN     NaN    NaN   \n",
       "24                                                NaN     NaN     NaN    NaN   \n",
       "25  Source : Estimated Retail Food Prices by Citie...     NaN     NaN    NaN   \n",
       "26   U.S. Department of Labor, Bureau of Labor Sta...     NaN     NaN    NaN   \n",
       "\n",
       "    Oranges  Tomato   \n",
       "0      80.1     41.6  \n",
       "1      74.6     53.3  \n",
       "2     104.0     59.6  \n",
       "3     118.4     51.2  \n",
       "4     105.9     51.2  \n",
       "5      99.3     45.6  \n",
       "6     110.9     46.8  \n",
       "7     117.9     41.8  \n",
       "8     109.7     52.4  \n",
       "9     133.2     61.7  \n",
       "10    108.6     42.4  \n",
       "11    100.9     43.2  \n",
       "12     82.7     38.4  \n",
       "13    111.8     53.9  \n",
       "14    106.0     50.7  \n",
       "15    107.3     62.6  \n",
       "16     98.0     61.7  \n",
       "17    117.1     49.3  \n",
       "18    115.1     46.2  \n",
       "19     92.8     35.4  \n",
       "20    101.8     41.5  \n",
       "21     91.1     44.9  \n",
       "22     81.6     46.2  \n",
       "23      NaN      NaN  \n",
       "24      NaN      NaN  \n",
       "25      NaN      NaN  \n",
       "26      NaN      NaN  "
      ]
     },
     "execution_count": 2,
     "metadata": {},
     "output_type": "execute_result"
    }
   ],
   "source": [
    "df"
   ]
  },
  {
   "cell_type": "code",
   "execution_count": 3,
   "metadata": {},
   "outputs": [
    {
     "data": {
      "text/html": [
       "<div>\n",
       "<style scoped>\n",
       "    .dataframe tbody tr th:only-of-type {\n",
       "        vertical-align: middle;\n",
       "    }\n",
       "\n",
       "    .dataframe tbody tr th {\n",
       "        vertical-align: top;\n",
       "    }\n",
       "\n",
       "    .dataframe thead th {\n",
       "        text-align: right;\n",
       "    }\n",
       "</style>\n",
       "<table border=\"1\" class=\"dataframe\">\n",
       "  <thead>\n",
       "    <tr style=\"text-align: right;\">\n",
       "      <th></th>\n",
       "      <th>City</th>\n",
       "      <th>Bread</th>\n",
       "      <th>Burger</th>\n",
       "      <th>Milk</th>\n",
       "      <th>Oranges</th>\n",
       "      <th>Tomato</th>\n",
       "    </tr>\n",
       "  </thead>\n",
       "  <tbody>\n",
       "    <tr>\n",
       "      <th>0</th>\n",
       "      <td>Atlanta</td>\n",
       "      <td>24.5</td>\n",
       "      <td>94.5</td>\n",
       "      <td>73.9</td>\n",
       "      <td>80.1</td>\n",
       "      <td>41.6</td>\n",
       "    </tr>\n",
       "    <tr>\n",
       "      <th>1</th>\n",
       "      <td>Baltimore</td>\n",
       "      <td>26.5</td>\n",
       "      <td>91.0</td>\n",
       "      <td>67.5</td>\n",
       "      <td>74.6</td>\n",
       "      <td>53.3</td>\n",
       "    </tr>\n",
       "    <tr>\n",
       "      <th>2</th>\n",
       "      <td>Boston</td>\n",
       "      <td>29.7</td>\n",
       "      <td>100.8</td>\n",
       "      <td>61.4</td>\n",
       "      <td>104.0</td>\n",
       "      <td>59.6</td>\n",
       "    </tr>\n",
       "    <tr>\n",
       "      <th>3</th>\n",
       "      <td>Buffalo</td>\n",
       "      <td>22.8</td>\n",
       "      <td>86.6</td>\n",
       "      <td>65.3</td>\n",
       "      <td>118.4</td>\n",
       "      <td>51.2</td>\n",
       "    </tr>\n",
       "    <tr>\n",
       "      <th>4</th>\n",
       "      <td>Chicago</td>\n",
       "      <td>26.7</td>\n",
       "      <td>86.7</td>\n",
       "      <td>62.7</td>\n",
       "      <td>105.9</td>\n",
       "      <td>51.2</td>\n",
       "    </tr>\n",
       "    <tr>\n",
       "      <th>5</th>\n",
       "      <td>Cincinnati</td>\n",
       "      <td>25.3</td>\n",
       "      <td>102.5</td>\n",
       "      <td>63.3</td>\n",
       "      <td>99.3</td>\n",
       "      <td>45.6</td>\n",
       "    </tr>\n",
       "    <tr>\n",
       "      <th>6</th>\n",
       "      <td>Cleveland</td>\n",
       "      <td>22.8</td>\n",
       "      <td>88.8</td>\n",
       "      <td>52.4</td>\n",
       "      <td>110.9</td>\n",
       "      <td>46.8</td>\n",
       "    </tr>\n",
       "    <tr>\n",
       "      <th>7</th>\n",
       "      <td>Dallas</td>\n",
       "      <td>23.3</td>\n",
       "      <td>85.5</td>\n",
       "      <td>62.5</td>\n",
       "      <td>117.9</td>\n",
       "      <td>41.8</td>\n",
       "    </tr>\n",
       "    <tr>\n",
       "      <th>8</th>\n",
       "      <td>Detroit</td>\n",
       "      <td>24.1</td>\n",
       "      <td>93.7</td>\n",
       "      <td>51.5</td>\n",
       "      <td>109.7</td>\n",
       "      <td>52.4</td>\n",
       "    </tr>\n",
       "    <tr>\n",
       "      <th>9</th>\n",
       "      <td>Honolulu</td>\n",
       "      <td>29.3</td>\n",
       "      <td>105.9</td>\n",
       "      <td>80.2</td>\n",
       "      <td>133.2</td>\n",
       "      <td>61.7</td>\n",
       "    </tr>\n",
       "    <tr>\n",
       "      <th>10</th>\n",
       "      <td>Houston</td>\n",
       "      <td>22.3</td>\n",
       "      <td>83.6</td>\n",
       "      <td>67.8</td>\n",
       "      <td>108.6</td>\n",
       "      <td>42.4</td>\n",
       "    </tr>\n",
       "    <tr>\n",
       "      <th>11</th>\n",
       "      <td>Kansas City</td>\n",
       "      <td>26.1</td>\n",
       "      <td>88.9</td>\n",
       "      <td>65.4</td>\n",
       "      <td>100.9</td>\n",
       "      <td>43.2</td>\n",
       "    </tr>\n",
       "    <tr>\n",
       "      <th>12</th>\n",
       "      <td>Los Angeles</td>\n",
       "      <td>26.9</td>\n",
       "      <td>89.3</td>\n",
       "      <td>56.2</td>\n",
       "      <td>82.7</td>\n",
       "      <td>38.4</td>\n",
       "    </tr>\n",
       "    <tr>\n",
       "      <th>13</th>\n",
       "      <td>Milwakee</td>\n",
       "      <td>20.3</td>\n",
       "      <td>89.6</td>\n",
       "      <td>53.8</td>\n",
       "      <td>111.8</td>\n",
       "      <td>53.9</td>\n",
       "    </tr>\n",
       "    <tr>\n",
       "      <th>14</th>\n",
       "      <td>Minneapolis</td>\n",
       "      <td>24.6</td>\n",
       "      <td>92.2</td>\n",
       "      <td>51.9</td>\n",
       "      <td>106.0</td>\n",
       "      <td>50.7</td>\n",
       "    </tr>\n",
       "    <tr>\n",
       "      <th>15</th>\n",
       "      <td>New York</td>\n",
       "      <td>30.8</td>\n",
       "      <td>110.7</td>\n",
       "      <td>66.0</td>\n",
       "      <td>107.3</td>\n",
       "      <td>62.6</td>\n",
       "    </tr>\n",
       "    <tr>\n",
       "      <th>16</th>\n",
       "      <td>Philadelphia</td>\n",
       "      <td>24.5</td>\n",
       "      <td>92.3</td>\n",
       "      <td>66.7</td>\n",
       "      <td>98.0</td>\n",
       "      <td>61.7</td>\n",
       "    </tr>\n",
       "    <tr>\n",
       "      <th>17</th>\n",
       "      <td>Pittsburgh</td>\n",
       "      <td>26.2</td>\n",
       "      <td>95.4</td>\n",
       "      <td>60.2</td>\n",
       "      <td>117.1</td>\n",
       "      <td>49.3</td>\n",
       "    </tr>\n",
       "    <tr>\n",
       "      <th>18</th>\n",
       "      <td>St. Louis</td>\n",
       "      <td>26.5</td>\n",
       "      <td>92.4</td>\n",
       "      <td>60.8</td>\n",
       "      <td>115.1</td>\n",
       "      <td>46.2</td>\n",
       "    </tr>\n",
       "    <tr>\n",
       "      <th>19</th>\n",
       "      <td>San Diego</td>\n",
       "      <td>25.5</td>\n",
       "      <td>83.7</td>\n",
       "      <td>57.0</td>\n",
       "      <td>92.8</td>\n",
       "      <td>35.4</td>\n",
       "    </tr>\n",
       "    <tr>\n",
       "      <th>20</th>\n",
       "      <td>San Franscisco</td>\n",
       "      <td>26.3</td>\n",
       "      <td>87.1</td>\n",
       "      <td>58.3</td>\n",
       "      <td>101.8</td>\n",
       "      <td>41.5</td>\n",
       "    </tr>\n",
       "    <tr>\n",
       "      <th>21</th>\n",
       "      <td>Seattle</td>\n",
       "      <td>22.5</td>\n",
       "      <td>77.7</td>\n",
       "      <td>62.0</td>\n",
       "      <td>91.1</td>\n",
       "      <td>44.9</td>\n",
       "    </tr>\n",
       "    <tr>\n",
       "      <th>22</th>\n",
       "      <td>Washington, DC</td>\n",
       "      <td>24.2</td>\n",
       "      <td>93.8</td>\n",
       "      <td>66.0</td>\n",
       "      <td>81.6</td>\n",
       "      <td>46.2</td>\n",
       "    </tr>\n",
       "  </tbody>\n",
       "</table>\n",
       "</div>"
      ],
      "text/plain": [
       "             City   Bread   Burger  Milk   Oranges  Tomato \n",
       "0          Atlanta    24.5    94.5   73.9     80.1     41.6\n",
       "1        Baltimore    26.5    91.0   67.5     74.6     53.3\n",
       "2           Boston    29.7   100.8   61.4    104.0     59.6\n",
       "3         Buffalo     22.8    86.6   65.3    118.4     51.2\n",
       "4          Chicago    26.7    86.7   62.7    105.9     51.2\n",
       "5       Cincinnati    25.3   102.5   63.3     99.3     45.6\n",
       "6        Cleveland    22.8    88.8   52.4    110.9     46.8\n",
       "7          Dallas     23.3    85.5   62.5    117.9     41.8\n",
       "8          Detroit    24.1    93.7   51.5    109.7     52.4\n",
       "9         Honolulu    29.3   105.9   80.2    133.2     61.7\n",
       "10         Houston    22.3    83.6   67.8    108.6     42.4\n",
       "11     Kansas City    26.1    88.9   65.4    100.9     43.2\n",
       "12     Los Angeles    26.9    89.3   56.2     82.7     38.4\n",
       "13        Milwakee    20.3    89.6   53.8    111.8     53.9\n",
       "14     Minneapolis    24.6    92.2   51.9    106.0     50.7\n",
       "15        New York    30.8   110.7   66.0    107.3     62.6\n",
       "16    Philadelphia    24.5    92.3   66.7     98.0     61.7\n",
       "17      Pittsburgh    26.2    95.4   60.2    117.1     49.3\n",
       "18       St. Louis    26.5    92.4   60.8    115.1     46.2\n",
       "19       San Diego    25.5    83.7   57.0     92.8     35.4\n",
       "20  San Franscisco    26.3    87.1   58.3    101.8     41.5\n",
       "21         Seattle    22.5    77.7   62.0     91.1     44.9\n",
       "22  Washington, DC    24.2    93.8   66.0     81.6     46.2"
      ]
     },
     "execution_count": 3,
     "metadata": {},
     "output_type": "execute_result"
    }
   ],
   "source": [
    "#Drop NA\n",
    "df = df.dropna()\n",
    "df"
   ]
  },
  {
   "cell_type": "code",
   "execution_count": 4,
   "metadata": {},
   "outputs": [
    {
     "data": {
      "text/plain": [
       "array([[ 24.5,  94.5,  73.9,  80.1,  41.6],\n",
       "       [ 26.5,  91. ,  67.5,  74.6,  53.3],\n",
       "       [ 29.7, 100.8,  61.4, 104. ,  59.6],\n",
       "       [ 22.8,  86.6,  65.3, 118.4,  51.2],\n",
       "       [ 26.7,  86.7,  62.7, 105.9,  51.2],\n",
       "       [ 25.3, 102.5,  63.3,  99.3,  45.6],\n",
       "       [ 22.8,  88.8,  52.4, 110.9,  46.8],\n",
       "       [ 23.3,  85.5,  62.5, 117.9,  41.8],\n",
       "       [ 24.1,  93.7,  51.5, 109.7,  52.4],\n",
       "       [ 29.3, 105.9,  80.2, 133.2,  61.7],\n",
       "       [ 22.3,  83.6,  67.8, 108.6,  42.4],\n",
       "       [ 26.1,  88.9,  65.4, 100.9,  43.2],\n",
       "       [ 26.9,  89.3,  56.2,  82.7,  38.4],\n",
       "       [ 20.3,  89.6,  53.8, 111.8,  53.9],\n",
       "       [ 24.6,  92.2,  51.9, 106. ,  50.7],\n",
       "       [ 30.8, 110.7,  66. , 107.3,  62.6],\n",
       "       [ 24.5,  92.3,  66.7,  98. ,  61.7],\n",
       "       [ 26.2,  95.4,  60.2, 117.1,  49.3],\n",
       "       [ 26.5,  92.4,  60.8, 115.1,  46.2],\n",
       "       [ 25.5,  83.7,  57. ,  92.8,  35.4],\n",
       "       [ 26.3,  87.1,  58.3, 101.8,  41.5],\n",
       "       [ 22.5,  77.7,  62. ,  91.1,  44.9],\n",
       "       [ 24.2,  93.8,  66. ,  81.6,  46.2]])"
      ]
     },
     "execution_count": 4,
     "metadata": {},
     "output_type": "execute_result"
    }
   ],
   "source": [
    "X = df.iloc[::, 1:6].values\n",
    "X"
   ]
  },
  {
   "cell_type": "code",
   "execution_count": 5,
   "metadata": {},
   "outputs": [
    {
     "data": {
      "text/plain": [
       "array(['Atlanta', 'Baltimore', 'Boston', 'Buffalo ', 'Chicago',\n",
       "       'Cincinnati', 'Cleveland', 'Dallas ', 'Detroit', 'Honolulu',\n",
       "       'Houston', 'Kansas City', 'Los Angeles', 'Milwakee', 'Minneapolis',\n",
       "       'New York', 'Philadelphia', 'Pittsburgh', 'St. Louis', 'San Diego',\n",
       "       'San Franscisco', 'Seattle', 'Washington, DC'], dtype=object)"
      ]
     },
     "execution_count": 5,
     "metadata": {},
     "output_type": "execute_result"
    }
   ],
   "source": [
    "Y = df.iloc[::, 0].values\n",
    "Y"
   ]
  },
  {
   "cell_type": "code",
   "execution_count": 6,
   "metadata": {},
   "outputs": [],
   "source": [
    "from sklearn.preprocessing import StandardScaler\n",
    "X_std = StandardScaler().fit_transform(X)\n"
   ]
  },
  {
   "cell_type": "code",
   "execution_count": 7,
   "metadata": {},
   "outputs": [
    {
     "data": {
      "text/plain": [
       "PCA(copy=True, iterated_power='auto', n_components=5, random_state=42,\n",
       "  svd_solver='auto', tol=0.0, whiten=True)"
      ]
     },
     "execution_count": 7,
     "metadata": {},
     "output_type": "execute_result"
    }
   ],
   "source": [
    "from sklearn.decomposition import PCA\n",
    "pca = PCA(n_components=5, random_state=42, whiten=True)\n",
    "pca.fit(X_std)"
   ]
  },
  {
   "cell_type": "code",
   "execution_count": 8,
   "metadata": {},
   "outputs": [
    {
     "data": {
      "text/plain": [
       "array([2.53258013, 1.15488739, 0.77204783, 0.5160482 , 0.25170918])"
      ]
     },
     "execution_count": 8,
     "metadata": {},
     "output_type": "execute_result"
    }
   ],
   "source": [
    "pca.explained_variance_"
   ]
  },
  {
   "cell_type": "code",
   "execution_count": 9,
   "metadata": {},
   "outputs": [
    {
     "data": {
      "text/plain": [
       "array([ 48.45,  70.54,  85.31,  95.18, 100.  ])"
      ]
     },
     "execution_count": 9,
     "metadata": {},
     "output_type": "execute_result"
    }
   ],
   "source": [
    "variance = pca.explained_variance_ratio_ #calculate variance ratios\n",
    "\n",
    "var=np.cumsum(np.round(pca.explained_variance_ratio_, decimals=4)*100)\n",
    "var"
   ]
  },
  {
   "cell_type": "code",
   "execution_count": 10,
   "metadata": {},
   "outputs": [
    {
     "data": {
      "text/plain": [
       "[<matplotlib.lines.Line2D at 0x36f3a5e860>]"
      ]
     },
     "execution_count": 10,
     "metadata": {},
     "output_type": "execute_result"
    },
    {
     "data": {
      "image/png": "[encoded data removed]",
      "text/plain": [
       "<Figure size 432x288 with 1 Axes>"
      ]
     },
     "metadata": {
      "needs_background": "light"
     },
     "output_type": "display_data"
    }
   ],
   "source": [
    "import matplotlib.pyplot as plt\n",
    "%matplotlib inline\n",
    "\n",
    "\n",
    "plt.ylabel('% Variance Explained')\n",
    "plt.xlabel('# of Features')\n",
    "plt.title('PCA Analysis')\n",
    "plt.ylim(30,100.5)\n",
    "plt.style.context('seaborn-whitegrid')\n",
    "\n",
    "\n",
    "plt.plot(var)"
   ]
  },
  {
   "cell_type": "code",
   "execution_count": 11,
   "metadata": {},
   "outputs": [
    {
     "name": "stdout",
     "output_type": "stream",
     "text": [
      "2.4225\n",
      "1.1047\n",
      "0.7385\n",
      "0.4936\n",
      "0.2408\n"
     ]
    }
   ],
   "source": [
    "n_samples = X_std.shape[0]\n",
    "# We center the data and compute the sample covariance matrix.\n",
    "X -= np.mean(X_std, axis=0)\n",
    "cov_matrix = np.dot(X_std.T, X_std) / n_samples\n",
    "for eigenvector in pca.components_:\n",
    "    print(\"%.4f\"%np.dot(eigenvector.T, np.dot(cov_matrix, eigenvector)))\n"
   ]
  },
  {
   "cell_type": "code",
   "execution_count": 40,
   "metadata": {},
   "outputs": [
    {
     "name": "stdout",
     "output_type": "stream",
     "text": [
      "[[ 0.49614868  0.57570231  0.33956956  0.22498981  0.50643404]\n",
      " [ 0.30861972  0.04380176  0.43080905 -0.79677694 -0.28702846]\n",
      " [-0.38639398 -0.26247227  0.83463952  0.29160659 -0.01226602]\n",
      " [-0.50930459  0.02813712 -0.0491     -0.47901574  0.71270629]\n",
      " [-0.49989887  0.77263501  0.00788224 -0.0059668  -0.39120139]]\n"
     ]
    }
   ],
   "source": [
    "print(pca.components_)"
   ]
  },
  {
   "cell_type": "code",
   "execution_count": 41,
   "metadata": {},
   "outputs": [
    {
     "data": {
      "text/plain": [
       "array([[ 0.49614868,  0.57570231,  0.33956956,  0.22498981,  0.50643404],\n",
       "       [ 0.30861972,  0.04380176,  0.43080905, -0.79677694, -0.28702846],\n",
       "       [-0.38639398, -0.26247227,  0.83463952,  0.29160659, -0.01226602],\n",
       "       [-0.50930459,  0.02813712, -0.0491    , -0.47901574,  0.71270629],\n",
       "       [-0.49989887,  0.77263501,  0.00788224, -0.0059668 , -0.39120139]])"
      ]
     },
     "execution_count": 41,
     "metadata": {},
     "output_type": "execute_result"
    }
   ],
   "source": [
    "pca.components_"
   ]
  },
  {
   "cell_type": "code",
   "execution_count": 42,
   "metadata": {},
   "outputs": [
    {
     "data": {
      "text/plain": [
       "array([[ 0.49614868,  0.30861972, -0.38639398, -0.50930459, -0.49989887],\n",
       "       [ 0.57570231,  0.04380176, -0.26247227,  0.02813712,  0.77263501],\n",
       "       [ 0.33956956,  0.43080905,  0.83463952, -0.0491    ,  0.00788224],\n",
       "       [ 0.22498981, -0.79677694,  0.29160659, -0.47901574, -0.0059668 ],\n",
       "       [ 0.50643404, -0.28702846, -0.01226602,  0.71270629, -0.39120139]])"
      ]
     },
     "execution_count": 42,
     "metadata": {},
     "output_type": "execute_result"
    }
   ],
   "source": [
    "pca.components_.T"
   ]
  },
  {
   "cell_type": "code",
   "execution_count": 43,
   "metadata": {},
   "outputs": [
    {
     "name": "stdout",
     "output_type": "stream",
     "text": [
      "[[ 0.49614868 -0.30861972  0.38639398  0.50930459 -0.49989887]\n",
      " [ 0.57570231 -0.04380176  0.26247227 -0.02813712  0.77263501]\n",
      " [ 0.33956956 -0.43080905 -0.83463952  0.0491      0.00788224]\n",
      " [ 0.22498981  0.79677694 -0.29160659  0.47901574 -0.0059668 ]\n",
      " [ 0.50643404  0.28702846  0.01226602 -0.71270629 -0.39120139]]\n"
     ]
    }
   ],
   "source": [
    "u, s, Vh = np.linalg.svd(np.asmatrix(X_std), full_matrices=False)\n",
    "print(Vh.T)\n"
   ]
  },
  {
   "cell_type": "code",
   "execution_count": 44,
   "metadata": {},
   "outputs": [],
   "source": [
    "##https://stackoverflow.com/questions/44765682/in-sklearn-decomposition-pca-why-are-components-negative\n",
    "##Basically, ignore the +/- signs since uniqueness is not guaranteed"
   ]
  },
  {
   "cell_type": "code",
   "execution_count": 52,
   "metadata": {},
   "outputs": [
    {
     "data": {
      "text/plain": [
       "array([[ 0.78957509,  0.3316603 , -0.33950991, -0.36586657, -0.2508024 ],\n",
       "       [ 0.91617739,  0.04707186, -0.23062455,  0.02021272,  0.38763583],\n",
       "       [ 0.54039379,  0.46297191,  0.73336647, -0.03527172,  0.00395457],\n",
       "       [ 0.35805064, -0.85626182,  0.25622379, -0.34410811, -0.00299358],\n",
       "       [ 0.80594329, -0.3084571 , -0.01077769,  0.51198321, -0.19626819]])"
      ]
     },
     "execution_count": 52,
     "metadata": {},
     "output_type": "execute_result"
    }
   ],
   "source": [
    "## loading matrix\n",
    "\n",
    "pca.components_.T * np.sqrt(pca.explained_variance_)"
   ]
  },
  {
   "cell_type": "code",
   "execution_count": 17,
   "metadata": {},
   "outputs": [
    {
     "ename": "SyntaxError",
     "evalue": "invalid syntax (<ipython-input-17-81de4d97fdb8>, line 3)",
     "output_type": "error",
     "traceback": [
      "\u001b[1;36m  File \u001b[1;32m\"<ipython-input-17-81de4d97fdb8>\"\u001b[1;36m, line \u001b[1;32m3\u001b[0m\n\u001b[1;33m    eig_vals =\u001b[0m\n\u001b[1;37m               ^\u001b[0m\n\u001b[1;31mSyntaxError\u001b[0m\u001b[1;31m:\u001b[0m invalid syntax\n"
     ]
    }
   ],
   "source": [
    "          \n",
    "\n",
    "eig_vals = \n",
    "\n",
    "tot = sum(eig_vals)\n",
    "var_exp = [(i / tot)*100 for i in sorted(eig_vals, reverse=True)]\n",
    "cum_var_exp = np.cumsum(var_exp)\n",
    "\n",
    "trace1 = dict(\n",
    "    type='bar',\n",
    "    x=['PC %s' %i for i in range(1,5)],\n",
    "    y=var_exp,\n",
    "    name='Individual'\n",
    ")\n",
    "\n",
    "trace2 = dict(\n",
    "    type='scatter',\n",
    "    x=['PC %s' %i for i in range(1,5)], \n",
    "    y=cum_var_exp,\n",
    "    name='Cumulative'\n",
    ")\n",
    "\n",
    "data = [trace1, trace2]\n",
    "\n",
    "layout=dict(\n",
    "    title='Explained variance by different principal components',\n",
    "    yaxis=dict(\n",
    "        title='Explained variance in percent'\n",
    "    ),\n",
    "    annotations=list([\n",
    "        dict(\n",
    "            x=1.16,\n",
    "            y=1.05,\n",
    "            xref='paper',\n",
    "            yref='paper',\n",
    "            text='Explained Variance',\n",
    "            showarrow=False,\n",
    "        )\n",
    "    ])\n",
    ")\n",
    "\n",
    "fig = dict(data=data, layout=layout)\n",
    "py.iplot(fig, filename='selecting-principal-components')\n"
   ]
  },
  {
   "cell_type": "code",
   "execution_count": 18,
   "metadata": {},
   "outputs": [
    {
     "name": "stdout",
     "output_type": "stream",
     "text": [
      "          0         1         2         3         4\n",
      "0  1.000000  0.681700  0.328239  0.036709  0.382241\n",
      "1  0.681700  1.000000  0.333422  0.210937  0.631898\n",
      "2  0.328239  0.333422  1.000000 -0.002779  0.254417\n",
      "3  0.036709  0.210937 -0.002779  1.000000  0.358061\n",
      "4  0.382241  0.631898  0.254417  0.358061  1.000000\n"
     ]
    }
   ],
   "source": [
    "##Correlation\n",
    "print(pd.DataFrame(X).corr(method='pearson'))"
   ]
  },
  {
   "cell_type": "code",
   "execution_count": null,
   "metadata": {},
   "outputs": [],
   "source": []
  },
  {
   "cell_type": "code",
   "execution_count": null,
   "metadata": {},
   "outputs": [],
   "source": []
  },
  {
   "cell_type": "code",
   "execution_count": null,
   "metadata": {},
   "outputs": [],
   "source": []
  },
  {
   "cell_type": "code",
   "execution_count": null,
   "metadata": {},
   "outputs": [],
   "source": []
  },
  {
   "cell_type": "code",
   "execution_count": null,
   "metadata": {},
   "outputs": [],
   "source": []
  },
  {
   "cell_type": "code",
   "execution_count": null,
   "metadata": {},
   "outputs": [],
   "source": []
  },
  {
   "cell_type": "code",
   "execution_count": null,
   "metadata": {},
   "outputs": [],
   "source": []
  },
  {
   "cell_type": "code",
   "execution_count": null,
   "metadata": {},
   "outputs": [],
   "source": []
  },
  {
   "cell_type": "code",
   "execution_count": null,
   "metadata": {},
   "outputs": [],
   "source": []
  },
  {
   "cell_type": "code",
   "execution_count": null,
   "metadata": {},
   "outputs": [],
   "source": []
  },
  {
   "cell_type": "code",
   "execution_count": null,
   "metadata": {},
   "outputs": [],
   "source": []
  },
  {
   "cell_type": "code",
   "execution_count": 37,
   "metadata": {},
   "outputs": [
    {
     "data": {
      "text/plain": [
       "array([[-0.32274679,  0.35776456,  1.70715626, -1.64375072, -0.96364251],\n",
       "       [ 0.49298685, -0.11592042,  0.76562984, -2.03868797,  0.60987812],\n",
       "       [ 1.79816066,  1.21039753, -0.13176253,  0.07243118,  1.45715846],\n",
       "       [-1.01612037, -0.71141012,  0.44198013,  1.10644872,  0.32745134],\n",
       "       [ 0.57456021, -0.69787626,  0.05948503,  0.20886405,  0.32745134],\n",
       "       [ 0.00354667,  1.44047309,  0.14775313, -0.26506066, -0.42568674],\n",
       "       [-1.01612037, -0.41366527, -1.45578405,  0.56789792, -0.26430001],\n",
       "       [-0.81218697, -0.86028254,  0.03006232,  1.07054534, -0.93674472],\n",
       "       [-0.48589351,  0.24949371, -1.58818621,  0.48172979,  0.48883807],\n",
       "       [ 1.63501393,  1.90062422,  2.63397133,  2.16918898,  1.73958524],\n",
       "       [-1.22005378, -1.11742582,  0.80976389,  0.40274234, -0.85605136],\n",
       "       [ 0.32984012, -0.40013141,  0.45669148, -0.15016982, -0.7484602 ],\n",
       "       [ 0.65613357, -0.34599599, -0.89675274, -1.4570531 , -1.39400713],\n",
       "       [-2.03578741, -0.30539442, -1.24982515,  0.63252402,  0.69057148],\n",
       "       [-0.2819601 ,  0.04648586, -1.52934081,  0.21604473,  0.26020687],\n",
       "       [ 2.24681416,  2.55024934,  0.54495958,  0.30939353,  1.86062529],\n",
       "       [-0.32274679,  0.06001971,  0.64793904, -0.35840946,  1.73958524],\n",
       "       [ 0.3706268 ,  0.47956927, -0.30829873,  1.01309992,  0.07192235],\n",
       "       [ 0.49298685,  0.07355357, -0.22003063,  0.86948637, -0.34499337],\n",
       "       [ 0.08512003, -1.10389196, -0.77906194, -0.73180469, -1.79747396],\n",
       "       [ 0.41141348, -0.64374083, -0.58781439, -0.08554372, -0.97709141],\n",
       "       [-1.13848042, -1.91592336, -0.04349443, -0.8538762 , -0.519829  ],\n",
       "       [-0.44510683,  0.26302756,  0.54495958, -1.53604055, -0.34499337]])"
      ]
     },
     "execution_count": 37,
     "metadata": {},
     "output_type": "execute_result"
    }
   ],
   "source": [
    "X_std"
   ]
  },
  {
   "cell_type": "code",
   "execution_count": null,
   "metadata": {},
   "outputs": [],
   "source": []
  },
  {
   "cell_type": "code",
   "execution_count": null,
   "metadata": {},
   "outputs": [],
   "source": []
  },
  {
   "cell_type": "code",
   "execution_count": 19,
   "metadata": {},
   "outputs": [],
   "source": [
    "import pandas as pd"
   ]
  },
  {
   "cell_type": "code",
   "execution_count": 20,
   "metadata": {},
   "outputs": [],
   "source": [
    "from factor_analyzer import FactorAnalyzer"
   ]
  },
  {
   "cell_type": "code",
   "execution_count": 28,
   "metadata": {},
   "outputs": [],
   "source": [
    "fa = FactorAnalyzer()"
   ]
  },
  {
   "cell_type": "code",
   "execution_count": 39,
   "metadata": {},
   "outputs": [
    {
     "data": {
      "text/html": [
       "<div>\n",
       "<style scoped>\n",
       "    .dataframe tbody tr th:only-of-type {\n",
       "        vertical-align: middle;\n",
       "    }\n",
       "\n",
       "    .dataframe tbody tr th {\n",
       "        vertical-align: top;\n",
       "    }\n",
       "\n",
       "    .dataframe thead th {\n",
       "        text-align: right;\n",
       "    }\n",
       "</style>\n",
       "<table border=\"1\" class=\"dataframe\">\n",
       "  <thead>\n",
       "    <tr style=\"text-align: right;\">\n",
       "      <th></th>\n",
       "      <th>Factor1</th>\n",
       "      <th>Factor2</th>\n",
       "      <th>Factor3</th>\n",
       "      <th>Factor4</th>\n",
       "      <th>Factor5</th>\n",
       "    </tr>\n",
       "  </thead>\n",
       "  <tbody>\n",
       "    <tr>\n",
       "      <th>0</th>\n",
       "      <td>0.880415</td>\n",
       "      <td>0.144032</td>\n",
       "      <td>-0.413004</td>\n",
       "      <td>-0.172150</td>\n",
       "      <td>0.0</td>\n",
       "    </tr>\n",
       "    <tr>\n",
       "      <th>1</th>\n",
       "      <td>0.777356</td>\n",
       "      <td>0.550814</td>\n",
       "      <td>-0.042494</td>\n",
       "      <td>0.292441</td>\n",
       "      <td>0.0</td>\n",
       "    </tr>\n",
       "    <tr>\n",
       "      <th>2</th>\n",
       "      <td>0.439479</td>\n",
       "      <td>-0.801856</td>\n",
       "      <td>0.391985</td>\n",
       "      <td>0.081262</td>\n",
       "      <td>0.0</td>\n",
       "    </tr>\n",
       "    <tr>\n",
       "      <th>3</th>\n",
       "      <td>-0.916889</td>\n",
       "      <td>0.351730</td>\n",
       "      <td>-0.151887</td>\n",
       "      <td>0.099710</td>\n",
       "      <td>0.0</td>\n",
       "    </tr>\n",
       "    <tr>\n",
       "      <th>4</th>\n",
       "      <td>0.150494</td>\n",
       "      <td>0.796773</td>\n",
       "      <td>0.565570</td>\n",
       "      <td>-0.133282</td>\n",
       "      <td>0.0</td>\n",
       "    </tr>\n",
       "  </tbody>\n",
       "</table>\n",
       "</div>"
      ],
      "text/plain": [
       "    Factor1   Factor2   Factor3   Factor4  Factor5\n",
       "0  0.880415  0.144032 -0.413004 -0.172150      0.0\n",
       "1  0.777356  0.550814 -0.042494  0.292441      0.0\n",
       "2  0.439479 -0.801856  0.391985  0.081262      0.0\n",
       "3 -0.916889  0.351730 -0.151887  0.099710      0.0\n",
       "4  0.150494  0.796773  0.565570 -0.133282      0.0"
      ]
     },
     "execution_count": 39,
     "metadata": {},
     "output_type": "execute_result"
    }
   ],
   "source": [
    "fa.analyze(pd.DataFrame(X_std), 5, rotation=None)\n",
    "fa.loadings"
   ]
  },
  {
   "cell_type": "code",
   "execution_count": 33,
   "metadata": {},
   "outputs": [
    {
     "data": {
      "text/html": [
       "<div>\n",
       "<style scoped>\n",
       "    .dataframe tbody tr th:only-of-type {\n",
       "        vertical-align: middle;\n",
       "    }\n",
       "\n",
       "    .dataframe tbody tr th {\n",
       "        vertical-align: top;\n",
       "    }\n",
       "\n",
       "    .dataframe thead th {\n",
       "        text-align: right;\n",
       "    }\n",
       "</style>\n",
       "<table border=\"1\" class=\"dataframe\">\n",
       "  <thead>\n",
       "    <tr style=\"text-align: right;\">\n",
       "      <th></th>\n",
       "      <th>Factor1</th>\n",
       "      <th>Factor2</th>\n",
       "      <th>Factor3</th>\n",
       "      <th>Factor4</th>\n",
       "      <th>Factor5</th>\n",
       "    </tr>\n",
       "  </thead>\n",
       "  <tbody>\n",
       "    <tr>\n",
       "      <th>0</th>\n",
       "      <td>0.738706</td>\n",
       "      <td>0.043907</td>\n",
       "      <td>0.326000</td>\n",
       "      <td>-0.051726</td>\n",
       "      <td>0.0</td>\n",
       "    </tr>\n",
       "    <tr>\n",
       "      <th>1</th>\n",
       "      <td>0.788865</td>\n",
       "      <td>0.351769</td>\n",
       "      <td>0.287049</td>\n",
       "      <td>0.194533</td>\n",
       "      <td>0.0</td>\n",
       "    </tr>\n",
       "    <tr>\n",
       "      <th>2</th>\n",
       "      <td>0.249881</td>\n",
       "      <td>0.015148</td>\n",
       "      <td>0.441955</td>\n",
       "      <td>0.021123</td>\n",
       "      <td>0.0</td>\n",
       "    </tr>\n",
       "    <tr>\n",
       "      <th>3</th>\n",
       "      <td>0.033871</td>\n",
       "      <td>0.570399</td>\n",
       "      <td>-0.044058</td>\n",
       "      <td>-0.019454</td>\n",
       "      <td>0.0</td>\n",
       "    </tr>\n",
       "    <tr>\n",
       "      <th>4</th>\n",
       "      <td>0.337203</td>\n",
       "      <td>0.641796</td>\n",
       "      <td>0.353514</td>\n",
       "      <td>0.198683</td>\n",
       "      <td>0.0</td>\n",
       "    </tr>\n",
       "  </tbody>\n",
       "</table>\n",
       "</div>"
      ],
      "text/plain": [
       "    Factor1   Factor2   Factor3   Factor4  Factor5\n",
       "0  0.738706  0.043907  0.326000 -0.051726      0.0\n",
       "1  0.788865  0.351769  0.287049  0.194533      0.0\n",
       "2  0.249881  0.015148  0.441955  0.021123      0.0\n",
       "3  0.033871  0.570399 -0.044058 -0.019454      0.0\n",
       "4  0.337203  0.641796  0.353514  0.198683      0.0"
      ]
     },
     "execution_count": 33,
     "metadata": {},
     "output_type": "execute_result"
    }
   ],
   "source": []
  },
  {
   "cell_type": "code",
   "execution_count": 24,
   "metadata": {},
   "outputs": [],
   "source": [
    "from factor_analyzer import Rotator\n",
    "rotator = Rotator()"
   ]
  },
  {
   "cell_type": "code",
   "execution_count": 25,
   "metadata": {},
   "outputs": [
    {
     "ename": "TypeError",
     "evalue": "rotate() takes from 2 to 3 positional arguments but 4 were given",
     "output_type": "error",
     "traceback": [
      "\u001b[1;31m---------------------------------------------------------------------------\u001b[0m",
      "\u001b[1;31mTypeError\u001b[0m                                 Traceback (most recent call last)",
      "\u001b[1;32m<ipython-input-25-c5b831c3a4a8>\u001b[0m in \u001b[0;36m<module>\u001b[1;34m\u001b[0m\n\u001b[1;32m----> 1\u001b[1;33m \u001b[0mrotate_mt\u001b[0m \u001b[1;33m=\u001b[0m \u001b[0mrotator\u001b[0m\u001b[1;33m.\u001b[0m\u001b[0mrotate\u001b[0m\u001b[1;33m(\u001b[0m\u001b[0mdf\u001b[0m\u001b[1;33m.\u001b[0m\u001b[0miloc\u001b[0m\u001b[1;33m[\u001b[0m\u001b[1;33m:\u001b[0m\u001b[1;33m:\u001b[0m\u001b[1;33m,\u001b[0m \u001b[1;36m1\u001b[0m\u001b[1;33m:\u001b[0m\u001b[1;36m6\u001b[0m\u001b[1;33m]\u001b[0m\u001b[1;33m,\u001b[0m \u001b[1;36m2\u001b[0m\u001b[1;33m,\u001b[0m \u001b[1;34m'varimax'\u001b[0m\u001b[1;33m)\u001b[0m\u001b[1;33m\u001b[0m\u001b[1;33m\u001b[0m\u001b[0m\n\u001b[0m",
      "\u001b[1;31mTypeError\u001b[0m: rotate() takes from 2 to 3 positional arguments but 4 were given"
     ]
    }
   ],
   "source": [
    "rotate_mt = rotator.rotate(df.iloc[::, 1:6], 2, 'varimax')\n"
   ]
  },
  {
   "cell_type": "code",
   "execution_count": null,
   "metadata": {},
   "outputs": [],
   "source": [
    "rotate_mt"
   ]
  },
  {
   "cell_type": "code",
   "execution_count": null,
   "metadata": {},
   "outputs": [],
   "source": []
  }
 ],
 "metadata": {
  "kernelspec": {
   "display_name": "Python 3",
   "language": "python",
   "name": "python3"
  },
  "language_info": {
   "codemirror_mode": {
    "name": "ipython",
    "version": 3
   },
   "file_extension": ".py",
   "mimetype": "text/x-python",
   "name": "python",
   "nbconvert_exporter": "python",
   "pygments_lexer": "ipython3",
   "version": "3.6.7"
  }
 },
 "nbformat": 4,
 "nbformat_minor": 2
}
