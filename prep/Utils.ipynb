{
 "cells": [
  {
   "cell_type": "code",
   "execution_count": 140,
   "metadata": {},
   "outputs": [],
   "source": [
    "import pandas as pd\n",
    "from sklearn.preprocessing import StandardScaler\n",
    "from sklearn.decomposition import PCA\n",
    "import numpy as np\n",
    "import matplotlib\n",
    "import matplotlib.pyplot as plt"
   ]
  },
  {
   "cell_type": "code",
   "execution_count": 141,
   "metadata": {},
   "outputs": [],
   "source": [
    "gRandState = 42"
   ]
  },
  {
   "cell_type": "code",
   "execution_count": 167,
   "metadata": {},
   "outputs": [],
   "source": [
    "def standardardized_data(data):\n",
    "    return StandardScaler().fit_transform(data)\n",
    "\n",
    "def get_eigenvalues(data, std_data, num_comp):\n",
    "    eigenValues = []\n",
    "    pca = PCA(n_components=num_comp, random_state=gRandState, whiten=True)\n",
    "    pca.fit(std_data)\n",
    "    n_samples = std_data.shape[0]\n",
    "    # We center the data and compute the sample covariance matrix.\n",
    "    data -= np.mean(std_data, axis=0)\n",
    "    cov_matrix = np.dot(std_data.T, std_data) / n_samples\n",
    "    for eigenvector in pca.components_:\n",
    "        eigenValues.append(float(\"%.4f\"%np.dot(eigenvector.T, np.dot(cov_matrix, eigenvector))))\n",
    "    return np.array(eigenValues)\n",
    "\n",
    "def get_eigenvectors(std_data, num_comp):\n",
    "    pca = PCA(n_components=num_comp, random_state=gRandState, whiten=True)\n",
    "    pca.fit(std_data)\n",
    "    return pca.components_.T\n",
    "\n",
    "def get_correlations(data):\n",
    "    return pd.DataFrame(data).corr(method='pearson')\n",
    "\n",
    "\n",
    "def print_scree_plot(eigvals, num_vars):\n",
    "    fig = plt.figure(figsize=(8,5))\n",
    "    sing_vals = np.arange(num_vars) + 1\n",
    "    plt.plot(sing_vals, eigvals, 'ro-', linewidth=2)\n",
    "    plt.title('Scree Plot')\n",
    "    plt.xlabel('Principal Component')\n",
    "    plt.ylabel('Eigenvalue')\n",
    "    #I don't like the default legend so I typically make mine like below, e.g.\n",
    "    #with smaller fonts and a bit transparent so I do not cover up data, and make\n",
    "    #it moveable by the viewer in case upper-right is a bad place for it \n",
    "    plt.show()\n",
    "    \n",
    "def get_loading_matrix(std_data):\n",
    "    pca = PCA(n_components=5, random_state=42, whiten=True)\n",
    "    pca.fit(X_std)\n",
    "    return pca.components_.T * np.sqrt(pca.explained_variance_)\n"
   ]
  },
  {
   "cell_type": "code",
   "execution_count": 143,
   "metadata": {},
   "outputs": [],
   "source": [
    "df = pd.read_excel(\"USFoodPrice.xlsx\")"
   ]
  },
  {
   "cell_type": "code",
   "execution_count": 144,
   "metadata": {},
   "outputs": [],
   "source": [
    "df = df.dropna()\n",
    "X = df.iloc[::, 1:6].values\n",
    "Y = df.iloc[::, 0].values"
   ]
  },
  {
   "cell_type": "code",
   "execution_count": 145,
   "metadata": {},
   "outputs": [],
   "source": [
    "X_std = standardardized_data(X)"
   ]
  },
  {
   "cell_type": "code",
   "execution_count": 146,
   "metadata": {},
   "outputs": [
    {
     "name": "stdout",
     "output_type": "stream",
     "text": [
      "[2.4225 1.1047 0.7385 0.4936 0.2408]\n"
     ]
    }
   ],
   "source": [
    "print(get_eigenvalues(X, X_std, 5))"
   ]
  },
  {
   "cell_type": "code",
   "execution_count": 147,
   "metadata": {},
   "outputs": [
    {
     "name": "stdout",
     "output_type": "stream",
     "text": [
      "[[ 0.49614868  0.30861972 -0.38639398 -0.50930459 -0.49989887]\n",
      " [ 0.57570231  0.04380176 -0.26247227  0.02813712  0.77263501]\n",
      " [ 0.33956956  0.43080905  0.83463952 -0.0491      0.00788224]\n",
      " [ 0.22498981 -0.79677694  0.29160659 -0.47901574 -0.0059668 ]\n",
      " [ 0.50643404 -0.28702846 -0.01226602  0.71270629 -0.39120139]]\n"
     ]
    }
   ],
   "source": [
    "print(get_eigenvectors( X_std, 5))"
   ]
  },
  {
   "cell_type": "code",
   "execution_count": 148,
   "metadata": {},
   "outputs": [
    {
     "name": "stdout",
     "output_type": "stream",
     "text": [
      "          0         1         2         3         4\n",
      "0  1.000000  0.681700  0.328239  0.036709  0.382241\n",
      "1  0.681700  1.000000  0.333422  0.210937  0.631898\n",
      "2  0.328239  0.333422  1.000000 -0.002779  0.254417\n",
      "3  0.036709  0.210937 -0.002779  1.000000  0.358061\n",
      "4  0.382241  0.631898  0.254417  0.358061  1.000000\n"
     ]
    }
   ],
   "source": [
    "print(get_correlations(X))"
   ]
  },
  {
   "cell_type": "code",
   "execution_count": 149,
   "metadata": {},
   "outputs": [
    {
     "data": {
      "image/png": "[encoded data removed]",
      "text/plain": [
       "<Figure size 576x360 with 1 Axes>"
      ]
     },
     "metadata": {
      "needs_background": "light"
     },
     "output_type": "display_data"
    }
   ],
   "source": [
    "print_scree_plot(get_eigenvalues(X, X_std, 5), 5)"
   ]
  },
  {
   "cell_type": "code",
   "execution_count": 150,
   "metadata": {},
   "outputs": [],
   "source": [
    "def pca_plot(score,coeff,labels=None):\n",
    "    xs = score[:,0]\n",
    "    ys = score[:,1]\n",
    "    n = coeff.shape[0]\n",
    "\n",
    "    fig = plt.figure(figsize=(12,6))\n",
    "    plt.subplot(1, 2, 1)\n",
    "    plt.xlim(-4,4)\n",
    "    plt.ylim(-4,4)\n",
    "    plt.grid()\n",
    "    plt.scatter(xs ,ys )\n",
    "    \n",
    "    plt.subplot(1, 2, 2)\n",
    "    # theta goes from 0 to 2pi\n",
    "    theta = np.linspace(0, 2*np.pi, 100)\n",
    "\n",
    "    # the radius of the circle\n",
    "    r = np.sqrt(1)\n",
    "    # compute x1 and x2\n",
    "    x1 = r*np.cos(theta)\n",
    "    x2 = r*np.sin(theta)\n",
    "    plt.plot(x1, x2)\n",
    "\n",
    "    for i in range(n):\n",
    "        plt.arrow(0, 0, coeff[i,0], coeff[i,1],color = 'r',alpha = 0.5)\n",
    "        if labels is None:\n",
    "            plt.text(coeff[i,0]* 1.15, coeff[i,1] * 1.15, \"Var\"+str(i+1), color = 'g', ha = 'center', va = 'center')\n",
    "        else:\n",
    "            plt.text(coeff[i,0]* 1.15, coeff[i,1] * 1.05, labels[i], color = 'g', ha = 'center', va = 'center')\n",
    "    plt.xlim(-1,1)\n",
    "    plt.ylim(-1,1)\n",
    "    plt.gca().invert_yaxis()\n",
    "    plt.xlabel(\"PC{}\".format(1))\n",
    "    plt.ylabel(\"PC{}\".format(2))\n",
    "    plt.grid()\n"
   ]
  },
  {
   "cell_type": "code",
   "execution_count": 151,
   "metadata": {},
   "outputs": [
    {
     "data": {
      "image/png": "[encoded data removed]",
      "text/plain": [
       "<Figure size 864x432 with 2 Axes>"
      ]
     },
     "metadata": {
      "needs_background": "light"
     },
     "output_type": "display_data"
    }
   ],
   "source": [
    "pca = PCA(n_components=5, random_state=gRandState, whiten=True)\n",
    "\n",
    "x_new = pca.fit_transform(X_std)\n",
    "\n",
    "pca_plot(x_new[:,0:2],np.transpose(pca.components_[0:2, :]), df.columns[1:].values)"
   ]
  },
  {
   "cell_type": "code",
   "execution_count": 168,
   "metadata": {},
   "outputs": [
    {
     "data": {
      "text/plain": [
       "array([[ 0.78957509,  0.3316603 , -0.33950991, -0.36586657, -0.2508024 ],\n",
       "       [ 0.91617739,  0.04707186, -0.23062455,  0.02021272,  0.38763583],\n",
       "       [ 0.54039379,  0.46297191,  0.73336647, -0.03527172,  0.00395457],\n",
       "       [ 0.35805064, -0.85626182,  0.25622379, -0.34410811, -0.00299358],\n",
       "       [ 0.80594329, -0.3084571 , -0.01077769,  0.51198321, -0.19626819]])"
      ]
     },
     "execution_count": 168,
     "metadata": {},
     "output_type": "execute_result"
    }
   ],
   "source": [
    "get_loading_matrix(x_new)"
   ]
  },
  {
   "cell_type": "code",
   "execution_count": 1,
   "metadata": {},
   "outputs": [
    {
     "ename": "ModuleNotFoundError",
     "evalue": "No module named 'factor_analyzer'",
     "output_type": "error",
     "traceback": [
      "\u001b[1;31m---------------------------------------------------------------------------\u001b[0m",
      "\u001b[1;31mModuleNotFoundError\u001b[0m                       Traceback (most recent call last)",
      "\u001b[1;32m<ipython-input-1-de0fc8773af6>\u001b[0m in \u001b[0;36m<module>\u001b[1;34m()\u001b[0m\n\u001b[1;32m----> 1\u001b[1;33m \u001b[1;32mfrom\u001b[0m \u001b[0mfactor_analyzer\u001b[0m \u001b[1;32mimport\u001b[0m \u001b[0mFactorAnalyzer\u001b[0m\u001b[1;33m\u001b[0m\u001b[0m\n\u001b[0m\u001b[0;32m      2\u001b[0m \u001b[1;33m\u001b[0m\u001b[0m\n\u001b[0;32m      3\u001b[0m \u001b[0mfa\u001b[0m \u001b[1;33m=\u001b[0m \u001b[0mFactorAnalyzer\u001b[0m\u001b[1;33m(\u001b[0m\u001b[1;33m)\u001b[0m\u001b[1;33m\u001b[0m\u001b[0m\n\u001b[0;32m      4\u001b[0m \u001b[0mfa\u001b[0m\u001b[1;33m.\u001b[0m\u001b[0manalyze\u001b[0m\u001b[1;33m(\u001b[0m\u001b[0mpd\u001b[0m\u001b[1;33m.\u001b[0m\u001b[0mDataFrame\u001b[0m\u001b[1;33m(\u001b[0m\u001b[0mX\u001b[0m\u001b[1;33m)\u001b[0m\u001b[1;33m,\u001b[0m \u001b[1;36m2\u001b[0m\u001b[1;33m,\u001b[0m \u001b[0mmethod\u001b[0m\u001b[1;33m=\u001b[0m\u001b[1;34m'ml'\u001b[0m\u001b[1;33m,\u001b[0m \u001b[0mrotation\u001b[0m\u001b[1;33m=\u001b[0m\u001b[1;34m'varimax'\u001b[0m\u001b[1;33m)\u001b[0m\u001b[1;33m\u001b[0m\u001b[0m\n\u001b[0;32m      5\u001b[0m \u001b[0mfa\u001b[0m\u001b[1;33m.\u001b[0m\u001b[0mloadings\u001b[0m\u001b[1;33m\u001b[0m\u001b[0m\n",
      "\u001b[1;31mModuleNotFoundError\u001b[0m: No module named 'factor_analyzer'"
     ]
    }
   ],
   "source": [
    "from factor_analyzer import FactorAnalyzer\n",
    "\n",
    "fa = FactorAnalyzer()\n",
    "fa.analyze(pd.DataFrame(X), 2, method='ml', rotation='varimax')\n",
    "fa.loadings"
   ]
  },
  {
   "cell_type": "code",
   "execution_count": 163,
   "metadata": {},
   "outputs": [
    {
     "data": {
      "text/html": [
       "<div>\n",
       "<style scoped>\n",
       "    .dataframe tbody tr th:only-of-type {\n",
       "        vertical-align: middle;\n",
       "    }\n",
       "\n",
       "    .dataframe tbody tr th {\n",
       "        vertical-align: top;\n",
       "    }\n",
       "\n",
       "    .dataframe thead th {\n",
       "        text-align: right;\n",
       "    }\n",
       "</style>\n",
       "<table border=\"1\" class=\"dataframe\">\n",
       "  <thead>\n",
       "    <tr style=\"text-align: right;\">\n",
       "      <th></th>\n",
       "      <th>Factor1</th>\n",
       "      <th>Factor2</th>\n",
       "    </tr>\n",
       "  </thead>\n",
       "  <tbody>\n",
       "    <tr>\n",
       "      <th>0</th>\n",
       "      <td>0.865063</td>\n",
       "      <td>0.027729</td>\n",
       "    </tr>\n",
       "    <tr>\n",
       "      <th>1</th>\n",
       "      <td>0.773980</td>\n",
       "      <td>0.407529</td>\n",
       "    </tr>\n",
       "    <tr>\n",
       "      <th>2</th>\n",
       "      <td>0.379074</td>\n",
       "      <td>0.107599</td>\n",
       "    </tr>\n",
       "    <tr>\n",
       "      <th>3</th>\n",
       "      <td>0.023743</td>\n",
       "      <td>0.460262</td>\n",
       "    </tr>\n",
       "    <tr>\n",
       "      <th>4</th>\n",
       "      <td>0.418798</td>\n",
       "      <td>0.757233</td>\n",
       "    </tr>\n",
       "  </tbody>\n",
       "</table>\n",
       "</div>"
      ],
      "text/plain": [
       "    Factor1   Factor2\n",
       "0  0.865063  0.027729\n",
       "1  0.773980  0.407529\n",
       "2  0.379074  0.107599\n",
       "3  0.023743  0.460262\n",
       "4  0.418798  0.757233"
      ]
     },
     "execution_count": 163,
     "metadata": {},
     "output_type": "execute_result"
    }
   ],
   "source": [
    "from factor_analyzer import FactorAnalyzer\n",
    "\n",
    "fa = FactorAnalyzer()\n",
    "fa.analyze(pd.DataFrame(X_std), 2, method='ml', rotation='varimax')\n",
    "fa.loadings"
   ]
  },
  {
   "cell_type": "code",
   "execution_count": null,
   "metadata": {},
   "outputs": [],
   "source": []
  }
 ],
 "metadata": {
  "kernelspec": {
   "display_name": "Python 3",
   "language": "python",
   "name": "python3"
  },
  "language_info": {
   "codemirror_mode": {
    "name": "ipython",
    "version": 3
   },
   "file_extension": ".py",
   "mimetype": "text/x-python",
   "name": "python",
   "nbconvert_exporter": "python",
   "pygments_lexer": "ipython3",
   "version": "3.6.7"
  }
 },
 "nbformat": 4,
 "nbformat_minor": 2
}
